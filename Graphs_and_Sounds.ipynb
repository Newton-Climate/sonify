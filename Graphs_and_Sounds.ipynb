{
 "cells": [
  {
   "cell_type": "code",
   "execution_count": 5,
   "metadata": {},
   "outputs": [],
   "source": [
    "import random\n",
    "\n",
    "from sonify import play_midi_from_data\n",
    "\n",
    "import scipy.signal\n",
    "import matplotlib.pyplot as plt\n",
    "import numpy as np\n",
    "\n",
    "%matplotlib inline"
   ]
  },
  {
   "cell_type": "code",
   "execution_count": 2,
   "metadata": {},
   "outputs": [
    {
     "data": {
      "text/plain": [
       "<matplotlib.collections.PathCollection at 0x111e222b0>"
      ]
     },
     "execution_count": 2,
     "metadata": {},
     "output_type": "execute_result"
    },
    {
     "data": {
      "image/png": "[encoded data removed]",
      "text/plain": [
       "<matplotlib.figure.Figure at 0x111fe3ba8>"
      ]
     },
     "metadata": {},
     "output_type": "display_data"
    }
   ],
   "source": [
    "# Get the data we'd like to play from\n",
    "simple_data = [(1, 1), (2, 4), (3, 9), (4, 12), (5, 7), (6, 3), (7, 2), (8, 1)]\n",
    "\n",
    "plt.scatter(*zip(*simple_data))"
   ]
  },
  {
   "cell_type": "code",
   "execution_count": 6,
   "metadata": {},
   "outputs": [
    {
     "name": "stdout",
     "output_type": "stream",
     "text": [
      "Finished!\n"
     ]
    }
   ],
   "source": [
    "play_midi_from_data(simple_data)"
   ]
  },
  {
   "cell_type": "code",
   "execution_count": 7,
   "metadata": {},
   "outputs": [
    {
     "data": {
      "text/plain": [
       "<matplotlib.collections.PathCollection at 0x115b6c128>"
      ]
     },
     "execution_count": 7,
     "metadata": {},
     "output_type": "execute_result"
    },
    {
     "data": {
      "image/png": "[encoded data removed]",
      "text/plain": [
       "<matplotlib.figure.Figure at 0x111fe3b38>"
      ]
     },
     "metadata": {},
     "output_type": "display_data"
    }
   ],
   "source": [
    "# Generate some random data\n",
    "\n",
    "new_data = []\n",
    "for i in range(0, 12):\n",
    "    new_data.append((random.randint(0, 20), random.randint(0, 20)))\n",
    "    \n",
    "plt.scatter(*zip(*new_data))"
   ]
  },
  {
   "cell_type": "code",
   "execution_count": 8,
   "metadata": {},
   "outputs": [
    {
     "name": "stdout",
     "output_type": "stream",
     "text": [
      "Finished!\n"
     ]
    }
   ],
   "source": [
    "play_midi_from_data(new_data)"
   ]
  },
  {
   "cell_type": "code",
   "execution_count": 9,
   "metadata": {},
   "outputs": [],
   "source": [
    "def get_and_process_kepler_data():\n",
    "    \"\"\"\n",
    "    Example from @GeertHub's talk on \"How to find a planet\"\n",
    "    http://nbviewer.jupyter.org/github/barentsen/how-to-find-a-planet/blob/master/how-to-find-a-planet.ipynb\n",
    "    \"\"\"\n",
    "    import astropy.io.fits\n",
    "    from astropy.stats import LombScargle\n",
    "    # Read in Kepler data for star number 011904151\n",
    "    data = astropy.io.fits.open(\"https://archive.stsci.edu/missions/kepler/target_pixel_files/0119/011904151/kplr011904151-2010009091648_lpd-targ.fits.gz\")[1].data\n",
    "    time = data[\"TIME\"][data['QUALITY'] == 0]\n",
    "    images = data[\"FLUX\"][data['QUALITY'] == 0]\n",
    "    \n",
    "    lightcurve = np.sum(images, axis=(1, 2))\n",
    "    trend = scipy.signal.savgol_filter(lightcurve, 101, polyorder=3) \n",
    "    percent_change = 100 * ((lightcurve / trend) - 1)\n",
    "\n",
    "    frequency, power = LombScargle(time, percent_change, nterms=2).autopower(minimum_frequency=1/1.5, maximum_frequency=1/0.6, samples_per_peak=10)\n",
    "    period = 1 / frequency[np.argmax(power)]\n",
    "    \n",
    "    x_points = []\n",
    "    y_points = []\n",
    "    for i in range(10):\n",
    "        mask = (time >= time[0] + i*period) & (time < time[0] + (i+1)*period)\n",
    "        x_points += [x for x in time[mask] - time[0] - i*period]\n",
    "        y_points += [y for y in percent_change[mask]]\n",
    "\n",
    "    normalized_x = [((x - min(x_points) / (max(x_points) - min(x_points))))*30 for x in x_points]\n",
    "    normalized_y = [((y - min(y_points)) / (max(y_points) - min(y_points)))*30 for y in y_points]\n",
    "\n",
    "    normed_data = list(zip(normalized_x, normalized_y))\n",
    "    \n",
    "    return normed_data"
   ]
  },
  {
   "cell_type": "code",
   "execution_count": 10,
   "metadata": {},
   "outputs": [
    {
     "name": "stderr",
     "output_type": "stream",
     "text": [
      "/Users/erin/.virtualenvs/sonify/lib/python3.6/site-packages/scipy/linalg/basic.py:1226: RuntimeWarning: internal gelsd driver lwork query error, required iwork dimension not returned. This is likely the result of LAPACK bug 0038, fixed in LAPACK 3.2.2 (released July 21, 2010). Falling back to 'gelss' driver.\n",
      "  warnings.warn(mesg, RuntimeWarning)\n"
     ]
    },
    {
     "data": {
      "text/plain": [
       "<matplotlib.collections.PathCollection at 0x116e9a240>"
      ]
     },
     "execution_count": 10,
     "metadata": {},
     "output_type": "execute_result"
    },
    {
     "data": {
      "image/png": "[encoded data removed]",
      "text/plain": [
       "<matplotlib.figure.Figure at 0x115c3c0b8>"
      ]
     },
     "metadata": {},
     "output_type": "display_data"
    }
   ],
   "source": [
    "normed_data = get_and_process_kepler_data()\n",
    "\n",
    "plt.scatter(*zip(*normed_data)) "
   ]
  },
  {
   "cell_type": "code",
   "execution_count": 11,
   "metadata": {},
   "outputs": [
    {
     "name": "stdout",
     "output_type": "stream",
     "text": [
      "Finished!\n"
     ]
    }
   ],
   "source": [
    "play_midi_from_data(normed_data)"
   ]
  },
  {
   "cell_type": "code",
   "execution_count": null,
   "metadata": {},
   "outputs": [],
   "source": []
  }
 ],
 "metadata": {
  "kernelspec": {
   "display_name": "Python 3",
   "language": "python",
   "name": "python3"
  },
  "language_info": {
   "codemirror_mode": {
    "name": "ipython",
    "version": 3
   },
   "file_extension": ".py",
   "mimetype": "text/x-python",
   "name": "python",
   "nbconvert_exporter": "python",
   "pygments_lexer": "ipython3",
   "version": "3.6.3"
  }
 },
 "nbformat": 4,
 "nbformat_minor": 2
}
