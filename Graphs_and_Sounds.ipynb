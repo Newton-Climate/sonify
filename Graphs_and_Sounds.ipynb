{
 "cells": [
  {
   "cell_type": "code",
   "execution_count": null,
   "metadata": {
    "slideshow": {
     "slide_type": "skip"
    }
   },
   "outputs": [],
   "source": [
    "import json\n",
    "import random\n",
    "\n",
    "import numpy as np\n",
    "import scipy.signal\n",
    "import astropy.io.fits\n",
    "import matplotlib.pyplot as plt\n",
    "from astropy.stats import LombScargle\n",
    "\n",
    "import sonify\n",
    "\n",
    "%matplotlib inline"
   ]
  },
  {
   "cell_type": "markdown",
   "metadata": {
    "slideshow": {
     "slide_type": "slide"
    }
   },
   "source": [
    "![title](images/title.png)"
   ]
  },
  {
   "cell_type": "markdown",
   "metadata": {
    "slideshow": {
     "slide_type": "slide"
    }
   },
   "source": [
    "# Start with some simple data"
   ]
  },
  {
   "cell_type": "code",
   "execution_count": null,
   "metadata": {
    "slideshow": {
     "slide_type": "subslide"
    }
   },
   "outputs": [],
   "source": [
    "# Create some data we'd like to play from\n",
    "simple_data = [(1, 45), (2, 50), (3, 64), (4, 45), (5, 69), (6, 70), (7, 80), (8, 32)]\n",
    "\n",
    "# See what it looks like\n",
    "plt.scatter(*zip(*simple_data))\n",
    "                 "
   ]
  },
  {
   "cell_type": "code",
   "execution_count": null,
   "metadata": {
    "slideshow": {
     "slide_type": "subslide"
    }
   },
   "outputs": [],
   "source": [
    "sonify.play_midi_from_data(simple_data)"
   ]
  },
  {
   "cell_type": "markdown",
   "metadata": {
    "slideshow": {
     "slide_type": "slide"
    }
   },
   "source": [
    "# How to convert numbers to music?"
   ]
  },
  {
   "cell_type": "markdown",
   "metadata": {
    "slideshow": {
     "slide_type": "subslide"
    }
   },
   "source": [
    "## MIDI\n",
    "###  Musical Instrument Digital Interface\n",
    "\n",
    ">MIDI carries event messages that specify notation, pitch and velocity (loudness or softness), control signals for parameters such as volume, vibrato, audio panning from left to right, cues in theatre, and clock signals that set and synchronize tempo between multiple devices.\n",
    "\n",
    "[source: wikipedia](https://en.wikipedia.org/wiki/MIDI)"
   ]
  },
  {
   "cell_type": "markdown",
   "metadata": {
    "slideshow": {
     "slide_type": "subslide"
    }
   },
   "source": [
    "![midi notes and values](images/midi_notes_values.png)"
   ]
  },
  {
   "cell_type": "markdown",
   "metadata": {
    "slideshow": {
     "slide_type": "slide"
    }
   },
   "source": [
    "# Generate some more random data!"
   ]
  },
  {
   "cell_type": "code",
   "execution_count": null,
   "metadata": {
    "slideshow": {
     "slide_type": "subslide"
    }
   },
   "outputs": [],
   "source": [
    "# Generate some random data\n",
    "\n",
    "new_data = []\n",
    "for i in range(0, 12):\n",
    "    new_data.append((random.randint(0, 10), random.randint(30, 80)))\n",
    "    \n",
    "plt.scatter(*zip(*new_data))\n"
   ]
  },
  {
   "cell_type": "code",
   "execution_count": null,
   "metadata": {
    "slideshow": {
     "slide_type": "subslide"
    }
   },
   "outputs": [],
   "source": [
    "sonify.play_midi_from_data(new_data)\n"
   ]
  },
  {
   "cell_type": "code",
   "execution_count": null,
   "metadata": {
    "slideshow": {
     "slide_type": "subslide"
    }
   },
   "outputs": [],
   "source": [
    "sonify.play_midi_from_data(new_data, key='c_major')\n"
   ]
  },
  {
   "cell_type": "code",
   "execution_count": null,
   "metadata": {
    "slideshow": {
     "slide_type": "subslide"
    }
   },
   "outputs": [],
   "source": [
    "sonify.play_midi_from_data(new_data, key='eb_major')\n"
   ]
  },
  {
   "cell_type": "markdown",
   "metadata": {
    "slideshow": {
     "slide_type": "subslide"
    }
   },
   "source": [
    "(more keys coming soon!)"
   ]
  },
  {
   "cell_type": "markdown",
   "metadata": {
    "slideshow": {
     "slide_type": "slide"
    }
   },
   "source": [
    "![title](images/climate_data.png)\n"
   ]
  },
  {
   "cell_type": "markdown",
   "metadata": {
    "slideshow": {
     "slide_type": "subslide"
    }
   },
   "source": [
    "## \"yearly average temperature anomalies\"\n",
    "\n",
    "[source](https://www.climate.gov/maps-data/dataset/global-temperature-anomalies-graphing-tool)\n",
    "\n",
    ">Comparing the average temperature of land and ocean combined for a year period to the average temperature for the same period over the 20th century shows if conditions are warmer or cooler than the past."
   ]
  },
  {
   "cell_type": "code",
   "execution_count": null,
   "metadata": {
    "slideshow": {
     "slide_type": "subslide"
    }
   },
   "outputs": [],
   "source": [
    "# Climate data from https://www.ncdc.noaa.gov/cag/\n",
    "\n",
    "with open('sample_data/global_temp_anomolies_1880-2018.json') as data_file:    \n",
    "    climate_json = json.load(data_file)\n",
    "\n",
    "plt.scatter(climate_json['data'].keys(), climate_json['data'].values())"
   ]
  },
  {
   "cell_type": "code",
   "execution_count": null,
   "metadata": {
    "slideshow": {
     "slide_type": "subslide"
    }
   },
   "outputs": [],
   "source": [
    "years = [int(year) for year in climate_json['data'].keys()]\n",
    "temp_anomolies = [float(temp_anomaly) for temp_anomaly in climate_json['data'].values()]\n",
    "\n",
    "normalized_years = sonify.scale_list_to_range(years, new_min=0, new_max=30)\n",
    "normalized_temp_anomolies = sonify.scale_list_to_range(temp_anomolies, new_min=30, new_max=127)\n",
    "\n",
    "normed_climate_data = list(zip(normalized_years, normalized_temp_anomolies))"
   ]
  },
  {
   "cell_type": "code",
   "execution_count": null,
   "metadata": {
    "slideshow": {
     "slide_type": "subslide"
    }
   },
   "outputs": [],
   "source": [
    "plt.scatter(*zip(*normed_climate_data))"
   ]
  },
  {
   "cell_type": "code",
   "execution_count": null,
   "metadata": {
    "slideshow": {
     "slide_type": "subslide"
    }
   },
   "outputs": [],
   "source": [
    "sonify.play_midi_from_data(normed_climate_data)"
   ]
  },
  {
   "cell_type": "markdown",
   "metadata": {
    "slideshow": {
     "slide_type": "slide"
    }
   },
   "source": [
    "# Exoplanet Data!\n",
    "\n",
    "Let's look at some data from the Kepler Space Telescope.\n",
    "\n",
    "This will all be a bit of a whirlwind, but it's the data we're after so hang on tight!\n",
    "\n",
    "We'll be using data and code from Example from Geert Barentsen's [talk on \"How to find a planet\"](http://nbviewer.jupyter.org/github/barentsen/how-to-find-a-planet/blob/master/how-to-find-a-planet.ipynb)\n",
    "\n",
    "This notebook goes into WAY more detail, so if you're interested definitely check it out1"
   ]
  },
  {
   "cell_type": "markdown",
   "metadata": {
    "slideshow": {
     "slide_type": "subslide"
    }
   },
   "source": [
    "![exoplanet transit](images/transit.gif)"
   ]
  },
  {
   "cell_type": "markdown",
   "metadata": {
    "slideshow": {
     "slide_type": "slide"
    }
   },
   "source": [
    "# How Kepler gathers data\n",
    "\n",
    ">Kepler gives us tiny images of stars at many different timestamps!"
   ]
  },
  {
   "cell_type": "code",
   "execution_count": null,
   "metadata": {
    "slideshow": {
     "slide_type": "subslide"
    }
   },
   "outputs": [],
   "source": [
    "def get_kepler_data():\n",
    "    \"\"\"\n",
    "    Example from @GeertHub's talk on \"How to find a planet\"\n",
    "    http://nbviewer.jupyter.org/github/barentsen/how-to-find-a-planet/blob/master/how-to-find-a-planet.ipynb\n",
    "    \"\"\"\n",
    "    # Read in Kepler data for star number 011904151\n",
    "    data = astropy.io.fits.open(\"https://archive.stsci.edu/missions/kepler/target_pixel_files/0119/011904151/kplr011904151-2010009091648_lpd-targ.fits.gz\")[1].data\n",
    "    time = data[\"TIME\"][data['QUALITY'] == 0]\n",
    "    images = data[\"FLUX\"][data['QUALITY'] == 0]\n",
    "    \n",
    "    lightcurve = np.sum(images, axis=(1, 2))\n",
    "    trend = scipy.signal.savgol_filter(lightcurve, 101, polyorder=3) \n",
    "    percent_change = 100 * ((lightcurve / trend) - 1)\n",
    "\n",
    "    frequency, power = LombScargle(time, percent_change, nterms=2).autopower(minimum_frequency=1/1.5, maximum_frequency=1/0.6, samples_per_peak=10)\n",
    "    period = 1 / frequency[np.argmax(power)]\n",
    "\n",
    "    return time, period, percent_change, images"
   ]
  },
  {
   "cell_type": "code",
   "execution_count": null,
   "metadata": {
    "slideshow": {
     "slide_type": "subslide"
    }
   },
   "outputs": [],
   "source": [
    "time, period, percent_change, images = get_kepler_data()\n",
    "\n",
    "# Let's plot the image at the first timestamp\n",
    "plt.imshow(images[0], cmap='gray', interpolation='nearest');"
   ]
  },
  {
   "cell_type": "code",
   "execution_count": null,
   "metadata": {
    "slideshow": {
     "slide_type": "subslide"
    }
   },
   "outputs": [],
   "source": [
    "# In fact we have 9x7-pixel images at 926 different timestamps\n",
    "images.shape"
   ]
  },
  {
   "cell_type": "markdown",
   "metadata": {
    "slideshow": {
     "slide_type": "subslide"
    }
   },
   "source": [
    "By measuring the brightness of each of those 926 images, a pattern emerges!"
   ]
  },
  {
   "cell_type": "markdown",
   "metadata": {
    "slideshow": {
     "slide_type": "slide"
    }
   },
   "source": [
    "# Find the pattern in all that data\n",
    "\n",
    "Though a bit of signal processing, you can tell that something seems to be happening in the brightness of the signal every 0.8 days!\n",
    "\n",
    "Let's plot the data in 0.8-day chunks"
   ]
  },
  {
   "cell_type": "code",
   "execution_count": null,
   "metadata": {
    "slideshow": {
     "slide_type": "subslide"
    }
   },
   "outputs": [],
   "source": [
    "n_plots = 10\n",
    "plt.figure(figsize=(10, 30))\n",
    "for i in range(n_plots):\n",
    "    mask = (time >= time[0] + i*period) & (time < time[0] + (i+1)*period)\n",
    "    plt.subplot(n_plots, 1, i+1)\n",
    "    plt.scatter(time[mask], percent_change[mask], c='C{}'.format(i))"
   ]
  },
  {
   "cell_type": "markdown",
   "metadata": {
    "slideshow": {
     "slide_type": "slide"
    }
   },
   "source": [
    "# Process the Signal to use with Sonify!"
   ]
  },
  {
   "cell_type": "code",
   "execution_count": null,
   "metadata": {
    "slideshow": {
     "slide_type": "subslide"
    }
   },
   "outputs": [],
   "source": [
    "def process_kepler_data(time, period, percent_change, low_note=20, high_note=100):    \n",
    "    \n",
    "    x_points = []\n",
    "    y_points = []\n",
    "    for i in range(10):\n",
    "        mask = (time >= time[0] + i*period) & (time < time[0] + (i+1)*period)\n",
    "        x_points += [x for x in time[mask] - time[0] - i*period]\n",
    "        y_points += [y for y in percent_change[mask]]\n",
    "\n",
    "    normalized_x = sonify.scale_list_to_range(x_points, new_min=0, new_max=30)\n",
    "    normalized_y = sonify.scale_list_to_range(y_points, new_min=low_note, new_max=high_note)\n",
    "    \n",
    "    normed_data = list(zip(normalized_x, normalized_y))\n",
    "    \n",
    "    return normed_data"
   ]
  },
  {
   "cell_type": "code",
   "execution_count": null,
   "metadata": {
    "slideshow": {
     "slide_type": "subslide"
    }
   },
   "outputs": [],
   "source": [
    "normed_data = process_kepler_data(time, period, percent_change)\n",
    "\n",
    "plt.scatter(*zip(*normed_data))"
   ]
  },
  {
   "cell_type": "code",
   "execution_count": null,
   "metadata": {
    "slideshow": {
     "slide_type": "subslide"
    }
   },
   "outputs": [],
   "source": [
    "sonify.play_midi_from_data(normed_data, key='c_major')\n"
   ]
  },
  {
   "cell_type": "markdown",
   "metadata": {
    "slideshow": {
     "slide_type": "slide"
    }
   },
   "source": [
    "# Let's try playing each seperate lightcurve as a new track!"
   ]
  },
  {
   "cell_type": "code",
   "execution_count": null,
   "metadata": {
    "slideshow": {
     "slide_type": "subslide"
    }
   },
   "outputs": [],
   "source": [
    "def process_kepler_data_multi_track(time, period, percent_change):\n",
    "    \n",
    "    points = []\n",
    "    plt.figure(figsize=(10, 5))\n",
    "    \n",
    "    for i in range(10):\n",
    "        mask = (time >= time[0] + i*period) & (time < time[0] + (i+1)*period)\n",
    "        new_x = [x for x in time[mask] - time[0] - i*period]\n",
    "        scaled_x = sonify.scale_list_to_range(new_x, new_min=0, new_max=30)\n",
    "        \n",
    "        new_y = [y for y in percent_change[mask]]\n",
    "        scaled_y = sonify.scale_list_to_range(new_y, new_min=0, new_max=30)\n",
    "                \n",
    "        points.append(list(zip(scaled_x, scaled_y)))\n",
    "        \n",
    "        # Create the figure!\n",
    "        mask = (time >= time[0] + i*period) & (time < time[0] + (i+1)*period)\n",
    "        plt.scatter(time[mask] - time[0] - i*period, percent_change[mask])\n",
    "            \n",
    "    return points"
   ]
  },
  {
   "cell_type": "code",
   "execution_count": null,
   "metadata": {
    "slideshow": {
     "slide_type": "subslide"
    }
   },
   "outputs": [],
   "source": [
    "multitrack_data = process_kepler_data_multi_track(time, period, percent_change)"
   ]
  },
  {
   "cell_type": "code",
   "execution_count": null,
   "metadata": {
    "slideshow": {
     "slide_type": "subslide"
    }
   },
   "outputs": [],
   "source": [
    "sonify.play_midi_from_data(multitrack_data, track_type='multiple', key='c_major')\n"
   ]
  },
  {
   "cell_type": "code",
   "execution_count": null,
   "metadata": {},
   "outputs": [],
   "source": []
  }
 ],
 "metadata": {
  "celltoolbar": "Slideshow",
  "kernelspec": {
   "display_name": "Python 3",
   "language": "python",
   "name": "python3"
  },
  "language_info": {
   "codemirror_mode": {
    "name": "ipython",
    "version": 3
   },
   "file_extension": ".py",
   "mimetype": "text/x-python",
   "name": "python",
   "nbconvert_exporter": "python",
   "pygments_lexer": "ipython3",
   "version": "3.6.3"
  }
 },
 "nbformat": 4,
 "nbformat_minor": 2
}
